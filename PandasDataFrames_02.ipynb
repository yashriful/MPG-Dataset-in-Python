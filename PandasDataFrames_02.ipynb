{
  "cells": [
    {
      "cell_type": "markdown",
      "id": "f64d46bb",
      "metadata": {
        "id": "f64d46bb"
      },
      "source": [
        "# Intro to Pandas\n",
        "by Ryan Orsinger"
      ]
    },
    {
      "cell_type": "markdown",
      "id": "37bc64da",
      "metadata": {
        "id": "37bc64da"
      },
      "source": [
        "## Introducing DataFrames\n",
        "\n",
        "### Pandas DataFrames Basics - Part 2\n",
        "- Helpful Jupyter features\n",
        "- Importing a CSV dataset\n",
        "- Selecting multiple columns\n",
        "- Counting True values in a Boolean series\n",
        "- Filtering rows with Boolean masks\n",
        "- Using AND and OR operators\n",
        "- Why and when to use .copy\n",
        "- Sorting a dataframe by one or more columns"
      ]
    },
    {
      "cell_type": "code",
      "execution_count": 1,
      "id": "34891aca",
      "metadata": {
        "id": "34891aca"
      },
      "outputs": [],
      "source": [
        "import pandas as pd"
      ]
    },
    {
      "cell_type": "code",
      "source": [
        "from google.colab import files\n",
        "uploaded = files.upload()"
      ],
      "metadata": {
        "colab": {
          "base_uri": "https://localhost:8080/",
          "height": 73
        },
        "id": "D3kJ8oOjvTHO",
        "outputId": "76fedd57-81ee-4fb1-fb47-5f1f42570f3b"
      },
      "id": "D3kJ8oOjvTHO",
      "execution_count": 3,
      "outputs": [
        {
          "output_type": "display_data",
          "data": {
            "text/plain": [
              "<IPython.core.display.HTML object>"
            ],
            "text/html": [
              "\n",
              "     <input type=\"file\" id=\"files-8274d073-5392-497b-89d2-6a18cc264d89\" name=\"files[]\" multiple disabled\n",
              "        style=\"border:none\" />\n",
              "     <output id=\"result-8274d073-5392-497b-89d2-6a18cc264d89\">\n",
              "      Upload widget is only available when the cell has been executed in the\n",
              "      current browser session. Please rerun this cell to enable.\n",
              "      </output>\n",
              "      <script>// Copyright 2017 Google LLC\n",
              "//\n",
              "// Licensed under the Apache License, Version 2.0 (the \"License\");\n",
              "// you may not use this file except in compliance with the License.\n",
              "// You may obtain a copy of the License at\n",
              "//\n",
              "//      http://www.apache.org/licenses/LICENSE-2.0\n",
              "//\n",
              "// Unless required by applicable law or agreed to in writing, software\n",
              "// distributed under the License is distributed on an \"AS IS\" BASIS,\n",
              "// WITHOUT WARRANTIES OR CONDITIONS OF ANY KIND, either express or implied.\n",
              "// See the License for the specific language governing permissions and\n",
              "// limitations under the License.\n",
              "\n",
              "/**\n",
              " * @fileoverview Helpers for google.colab Python module.\n",
              " */\n",
              "(function(scope) {\n",
              "function span(text, styleAttributes = {}) {\n",
              "  const element = document.createElement('span');\n",
              "  element.textContent = text;\n",
              "  for (const key of Object.keys(styleAttributes)) {\n",
              "    element.style[key] = styleAttributes[key];\n",
              "  }\n",
              "  return element;\n",
              "}\n",
              "\n",
              "// Max number of bytes which will be uploaded at a time.\n",
              "const MAX_PAYLOAD_SIZE = 100 * 1024;\n",
              "\n",
              "function _uploadFiles(inputId, outputId) {\n",
              "  const steps = uploadFilesStep(inputId, outputId);\n",
              "  const outputElement = document.getElementById(outputId);\n",
              "  // Cache steps on the outputElement to make it available for the next call\n",
              "  // to uploadFilesContinue from Python.\n",
              "  outputElement.steps = steps;\n",
              "\n",
              "  return _uploadFilesContinue(outputId);\n",
              "}\n",
              "\n",
              "// This is roughly an async generator (not supported in the browser yet),\n",
              "// where there are multiple asynchronous steps and the Python side is going\n",
              "// to poll for completion of each step.\n",
              "// This uses a Promise to block the python side on completion of each step,\n",
              "// then passes the result of the previous step as the input to the next step.\n",
              "function _uploadFilesContinue(outputId) {\n",
              "  const outputElement = document.getElementById(outputId);\n",
              "  const steps = outputElement.steps;\n",
              "\n",
              "  const next = steps.next(outputElement.lastPromiseValue);\n",
              "  return Promise.resolve(next.value.promise).then((value) => {\n",
              "    // Cache the last promise value to make it available to the next\n",
              "    // step of the generator.\n",
              "    outputElement.lastPromiseValue = value;\n",
              "    return next.value.response;\n",
              "  });\n",
              "}\n",
              "\n",
              "/**\n",
              " * Generator function which is called between each async step of the upload\n",
              " * process.\n",
              " * @param {string} inputId Element ID of the input file picker element.\n",
              " * @param {string} outputId Element ID of the output display.\n",
              " * @return {!Iterable<!Object>} Iterable of next steps.\n",
              " */\n",
              "function* uploadFilesStep(inputId, outputId) {\n",
              "  const inputElement = document.getElementById(inputId);\n",
              "  inputElement.disabled = false;\n",
              "\n",
              "  const outputElement = document.getElementById(outputId);\n",
              "  outputElement.innerHTML = '';\n",
              "\n",
              "  const pickedPromise = new Promise((resolve) => {\n",
              "    inputElement.addEventListener('change', (e) => {\n",
              "      resolve(e.target.files);\n",
              "    });\n",
              "  });\n",
              "\n",
              "  const cancel = document.createElement('button');\n",
              "  inputElement.parentElement.appendChild(cancel);\n",
              "  cancel.textContent = 'Cancel upload';\n",
              "  const cancelPromise = new Promise((resolve) => {\n",
              "    cancel.onclick = () => {\n",
              "      resolve(null);\n",
              "    };\n",
              "  });\n",
              "\n",
              "  // Wait for the user to pick the files.\n",
              "  const files = yield {\n",
              "    promise: Promise.race([pickedPromise, cancelPromise]),\n",
              "    response: {\n",
              "      action: 'starting',\n",
              "    }\n",
              "  };\n",
              "\n",
              "  cancel.remove();\n",
              "\n",
              "  // Disable the input element since further picks are not allowed.\n",
              "  inputElement.disabled = true;\n",
              "\n",
              "  if (!files) {\n",
              "    return {\n",
              "      response: {\n",
              "        action: 'complete',\n",
              "      }\n",
              "    };\n",
              "  }\n",
              "\n",
              "  for (const file of files) {\n",
              "    const li = document.createElement('li');\n",
              "    li.append(span(file.name, {fontWeight: 'bold'}));\n",
              "    li.append(span(\n",
              "        `(${file.type || 'n/a'}) - ${file.size} bytes, ` +\n",
              "        `last modified: ${\n",
              "            file.lastModifiedDate ? file.lastModifiedDate.toLocaleDateString() :\n",
              "                                    'n/a'} - `));\n",
              "    const percent = span('0% done');\n",
              "    li.appendChild(percent);\n",
              "\n",
              "    outputElement.appendChild(li);\n",
              "\n",
              "    const fileDataPromise = new Promise((resolve) => {\n",
              "      const reader = new FileReader();\n",
              "      reader.onload = (e) => {\n",
              "        resolve(e.target.result);\n",
              "      };\n",
              "      reader.readAsArrayBuffer(file);\n",
              "    });\n",
              "    // Wait for the data to be ready.\n",
              "    let fileData = yield {\n",
              "      promise: fileDataPromise,\n",
              "      response: {\n",
              "        action: 'continue',\n",
              "      }\n",
              "    };\n",
              "\n",
              "    // Use a chunked sending to avoid message size limits. See b/62115660.\n",
              "    let position = 0;\n",
              "    do {\n",
              "      const length = Math.min(fileData.byteLength - position, MAX_PAYLOAD_SIZE);\n",
              "      const chunk = new Uint8Array(fileData, position, length);\n",
              "      position += length;\n",
              "\n",
              "      const base64 = btoa(String.fromCharCode.apply(null, chunk));\n",
              "      yield {\n",
              "        response: {\n",
              "          action: 'append',\n",
              "          file: file.name,\n",
              "          data: base64,\n",
              "        },\n",
              "      };\n",
              "\n",
              "      let percentDone = fileData.byteLength === 0 ?\n",
              "          100 :\n",
              "          Math.round((position / fileData.byteLength) * 100);\n",
              "      percent.textContent = `${percentDone}% done`;\n",
              "\n",
              "    } while (position < fileData.byteLength);\n",
              "  }\n",
              "\n",
              "  // All done.\n",
              "  yield {\n",
              "    response: {\n",
              "      action: 'complete',\n",
              "    }\n",
              "  };\n",
              "}\n",
              "\n",
              "scope.google = scope.google || {};\n",
              "scope.google.colab = scope.google.colab || {};\n",
              "scope.google.colab._files = {\n",
              "  _uploadFiles,\n",
              "  _uploadFilesContinue,\n",
              "};\n",
              "})(self);\n",
              "</script> "
            ]
          },
          "metadata": {}
        },
        {
          "output_type": "stream",
          "name": "stdout",
          "text": [
            "Saving mpg.csv to mpg.csv\n"
          ]
        }
      ]
    },
    {
      "cell_type": "code",
      "execution_count": 4,
      "id": "7ff6b757",
      "metadata": {
        "id": "7ff6b757",
        "colab": {
          "base_uri": "https://localhost:8080/",
          "height": 423
        },
        "outputId": "a401339c-534b-4d54-f2b2-4f6023f59351"
      },
      "outputs": [
        {
          "output_type": "execute_result",
          "data": {
            "text/plain": [
              "    manufacturer   model  displ  year  cyl       trans drv  cty  hwy fl  \\\n",
              "0           audi      a4    1.8  1999    4    auto(l5)   f   18   29  p   \n",
              "1           audi      a4    1.8  1999    4  manual(m5)   f   21   29  p   \n",
              "2           audi      a4    2.0  2008    4  manual(m6)   f   20   31  p   \n",
              "3           audi      a4    2.0  2008    4    auto(av)   f   21   30  p   \n",
              "4           audi      a4    2.8  1999    6    auto(l5)   f   16   26  p   \n",
              "..           ...     ...    ...   ...  ...         ...  ..  ...  ... ..   \n",
              "229   volkswagen  passat    2.0  2008    4    auto(s6)   f   19   28  p   \n",
              "230   volkswagen  passat    2.0  2008    4  manual(m6)   f   21   29  p   \n",
              "231   volkswagen  passat    2.8  1999    6    auto(l5)   f   16   26  p   \n",
              "232   volkswagen  passat    2.8  1999    6  manual(m5)   f   18   26  p   \n",
              "233   volkswagen  passat    3.6  2008    6    auto(s6)   f   17   26  p   \n",
              "\n",
              "       class  \n",
              "0    compact  \n",
              "1    compact  \n",
              "2    compact  \n",
              "3    compact  \n",
              "4    compact  \n",
              "..       ...  \n",
              "229  midsize  \n",
              "230  midsize  \n",
              "231  midsize  \n",
              "232  midsize  \n",
              "233  midsize  \n",
              "\n",
              "[234 rows x 11 columns]"
            ],
            "text/html": [
              "\n",
              "  <div id=\"df-73e5372d-d3aa-423d-a8fa-bf215ddc2ee7\" class=\"colab-df-container\">\n",
              "    <div>\n",
              "<style scoped>\n",
              "    .dataframe tbody tr th:only-of-type {\n",
              "        vertical-align: middle;\n",
              "    }\n",
              "\n",
              "    .dataframe tbody tr th {\n",
              "        vertical-align: top;\n",
              "    }\n",
              "\n",
              "    .dataframe thead th {\n",
              "        text-align: right;\n",
              "    }\n",
              "</style>\n",
              "<table border=\"1\" class=\"dataframe\">\n",
              "  <thead>\n",
              "    <tr style=\"text-align: right;\">\n",
              "      <th></th>\n",
              "      <th>manufacturer</th>\n",
              "      <th>model</th>\n",
              "      <th>displ</th>\n",
              "      <th>year</th>\n",
              "      <th>cyl</th>\n",
              "      <th>trans</th>\n",
              "      <th>drv</th>\n",
              "      <th>cty</th>\n",
              "      <th>hwy</th>\n",
              "      <th>fl</th>\n",
              "      <th>class</th>\n",
              "    </tr>\n",
              "  </thead>\n",
              "  <tbody>\n",
              "    <tr>\n",
              "      <th>0</th>\n",
              "      <td>audi</td>\n",
              "      <td>a4</td>\n",
              "      <td>1.8</td>\n",
              "      <td>1999</td>\n",
              "      <td>4</td>\n",
              "      <td>auto(l5)</td>\n",
              "      <td>f</td>\n",
              "      <td>18</td>\n",
              "      <td>29</td>\n",
              "      <td>p</td>\n",
              "      <td>compact</td>\n",
              "    </tr>\n",
              "    <tr>\n",
              "      <th>1</th>\n",
              "      <td>audi</td>\n",
              "      <td>a4</td>\n",
              "      <td>1.8</td>\n",
              "      <td>1999</td>\n",
              "      <td>4</td>\n",
              "      <td>manual(m5)</td>\n",
              "      <td>f</td>\n",
              "      <td>21</td>\n",
              "      <td>29</td>\n",
              "      <td>p</td>\n",
              "      <td>compact</td>\n",
              "    </tr>\n",
              "    <tr>\n",
              "      <th>2</th>\n",
              "      <td>audi</td>\n",
              "      <td>a4</td>\n",
              "      <td>2.0</td>\n",
              "      <td>2008</td>\n",
              "      <td>4</td>\n",
              "      <td>manual(m6)</td>\n",
              "      <td>f</td>\n",
              "      <td>20</td>\n",
              "      <td>31</td>\n",
              "      <td>p</td>\n",
              "      <td>compact</td>\n",
              "    </tr>\n",
              "    <tr>\n",
              "      <th>3</th>\n",
              "      <td>audi</td>\n",
              "      <td>a4</td>\n",
              "      <td>2.0</td>\n",
              "      <td>2008</td>\n",
              "      <td>4</td>\n",
              "      <td>auto(av)</td>\n",
              "      <td>f</td>\n",
              "      <td>21</td>\n",
              "      <td>30</td>\n",
              "      <td>p</td>\n",
              "      <td>compact</td>\n",
              "    </tr>\n",
              "    <tr>\n",
              "      <th>4</th>\n",
              "      <td>audi</td>\n",
              "      <td>a4</td>\n",
              "      <td>2.8</td>\n",
              "      <td>1999</td>\n",
              "      <td>6</td>\n",
              "      <td>auto(l5)</td>\n",
              "      <td>f</td>\n",
              "      <td>16</td>\n",
              "      <td>26</td>\n",
              "      <td>p</td>\n",
              "      <td>compact</td>\n",
              "    </tr>\n",
              "    <tr>\n",
              "      <th>...</th>\n",
              "      <td>...</td>\n",
              "      <td>...</td>\n",
              "      <td>...</td>\n",
              "      <td>...</td>\n",
              "      <td>...</td>\n",
              "      <td>...</td>\n",
              "      <td>...</td>\n",
              "      <td>...</td>\n",
              "      <td>...</td>\n",
              "      <td>...</td>\n",
              "      <td>...</td>\n",
              "    </tr>\n",
              "    <tr>\n",
              "      <th>229</th>\n",
              "      <td>volkswagen</td>\n",
              "      <td>passat</td>\n",
              "      <td>2.0</td>\n",
              "      <td>2008</td>\n",
              "      <td>4</td>\n",
              "      <td>auto(s6)</td>\n",
              "      <td>f</td>\n",
              "      <td>19</td>\n",
              "      <td>28</td>\n",
              "      <td>p</td>\n",
              "      <td>midsize</td>\n",
              "    </tr>\n",
              "    <tr>\n",
              "      <th>230</th>\n",
              "      <td>volkswagen</td>\n",
              "      <td>passat</td>\n",
              "      <td>2.0</td>\n",
              "      <td>2008</td>\n",
              "      <td>4</td>\n",
              "      <td>manual(m6)</td>\n",
              "      <td>f</td>\n",
              "      <td>21</td>\n",
              "      <td>29</td>\n",
              "      <td>p</td>\n",
              "      <td>midsize</td>\n",
              "    </tr>\n",
              "    <tr>\n",
              "      <th>231</th>\n",
              "      <td>volkswagen</td>\n",
              "      <td>passat</td>\n",
              "      <td>2.8</td>\n",
              "      <td>1999</td>\n",
              "      <td>6</td>\n",
              "      <td>auto(l5)</td>\n",
              "      <td>f</td>\n",
              "      <td>16</td>\n",
              "      <td>26</td>\n",
              "      <td>p</td>\n",
              "      <td>midsize</td>\n",
              "    </tr>\n",
              "    <tr>\n",
              "      <th>232</th>\n",
              "      <td>volkswagen</td>\n",
              "      <td>passat</td>\n",
              "      <td>2.8</td>\n",
              "      <td>1999</td>\n",
              "      <td>6</td>\n",
              "      <td>manual(m5)</td>\n",
              "      <td>f</td>\n",
              "      <td>18</td>\n",
              "      <td>26</td>\n",
              "      <td>p</td>\n",
              "      <td>midsize</td>\n",
              "    </tr>\n",
              "    <tr>\n",
              "      <th>233</th>\n",
              "      <td>volkswagen</td>\n",
              "      <td>passat</td>\n",
              "      <td>3.6</td>\n",
              "      <td>2008</td>\n",
              "      <td>6</td>\n",
              "      <td>auto(s6)</td>\n",
              "      <td>f</td>\n",
              "      <td>17</td>\n",
              "      <td>26</td>\n",
              "      <td>p</td>\n",
              "      <td>midsize</td>\n",
              "    </tr>\n",
              "  </tbody>\n",
              "</table>\n",
              "<p>234 rows × 11 columns</p>\n",
              "</div>\n",
              "    <div class=\"colab-df-buttons\">\n",
              "\n",
              "  <div class=\"colab-df-container\">\n",
              "    <button class=\"colab-df-convert\" onclick=\"convertToInteractive('df-73e5372d-d3aa-423d-a8fa-bf215ddc2ee7')\"\n",
              "            title=\"Convert this dataframe to an interactive table.\"\n",
              "            style=\"display:none;\">\n",
              "\n",
              "  <svg xmlns=\"http://www.w3.org/2000/svg\" height=\"24px\" viewBox=\"0 -960 960 960\">\n",
              "    <path d=\"M120-120v-720h720v720H120Zm60-500h600v-160H180v160Zm220 220h160v-160H400v160Zm0 220h160v-160H400v160ZM180-400h160v-160H180v160Zm440 0h160v-160H620v160ZM180-180h160v-160H180v160Zm440 0h160v-160H620v160Z\"/>\n",
              "  </svg>\n",
              "    </button>\n",
              "\n",
              "  <style>\n",
              "    .colab-df-container {\n",
              "      display:flex;\n",
              "      gap: 12px;\n",
              "    }\n",
              "\n",
              "    .colab-df-convert {\n",
              "      background-color: #E8F0FE;\n",
              "      border: none;\n",
              "      border-radius: 50%;\n",
              "      cursor: pointer;\n",
              "      display: none;\n",
              "      fill: #1967D2;\n",
              "      height: 32px;\n",
              "      padding: 0 0 0 0;\n",
              "      width: 32px;\n",
              "    }\n",
              "\n",
              "    .colab-df-convert:hover {\n",
              "      background-color: #E2EBFA;\n",
              "      box-shadow: 0px 1px 2px rgba(60, 64, 67, 0.3), 0px 1px 3px 1px rgba(60, 64, 67, 0.15);\n",
              "      fill: #174EA6;\n",
              "    }\n",
              "\n",
              "    .colab-df-buttons div {\n",
              "      margin-bottom: 4px;\n",
              "    }\n",
              "\n",
              "    [theme=dark] .colab-df-convert {\n",
              "      background-color: #3B4455;\n",
              "      fill: #D2E3FC;\n",
              "    }\n",
              "\n",
              "    [theme=dark] .colab-df-convert:hover {\n",
              "      background-color: #434B5C;\n",
              "      box-shadow: 0px 1px 3px 1px rgba(0, 0, 0, 0.15);\n",
              "      filter: drop-shadow(0px 1px 2px rgba(0, 0, 0, 0.3));\n",
              "      fill: #FFFFFF;\n",
              "    }\n",
              "  </style>\n",
              "\n",
              "    <script>\n",
              "      const buttonEl =\n",
              "        document.querySelector('#df-73e5372d-d3aa-423d-a8fa-bf215ddc2ee7 button.colab-df-convert');\n",
              "      buttonEl.style.display =\n",
              "        google.colab.kernel.accessAllowed ? 'block' : 'none';\n",
              "\n",
              "      async function convertToInteractive(key) {\n",
              "        const element = document.querySelector('#df-73e5372d-d3aa-423d-a8fa-bf215ddc2ee7');\n",
              "        const dataTable =\n",
              "          await google.colab.kernel.invokeFunction('convertToInteractive',\n",
              "                                                    [key], {});\n",
              "        if (!dataTable) return;\n",
              "\n",
              "        const docLinkHtml = 'Like what you see? Visit the ' +\n",
              "          '<a target=\"_blank\" href=https://colab.research.google.com/notebooks/data_table.ipynb>data table notebook</a>'\n",
              "          + ' to learn more about interactive tables.';\n",
              "        element.innerHTML = '';\n",
              "        dataTable['output_type'] = 'display_data';\n",
              "        await google.colab.output.renderOutput(dataTable, element);\n",
              "        const docLink = document.createElement('div');\n",
              "        docLink.innerHTML = docLinkHtml;\n",
              "        element.appendChild(docLink);\n",
              "      }\n",
              "    </script>\n",
              "  </div>\n",
              "\n",
              "\n",
              "<div id=\"df-f08f5339-7497-44be-a1e3-2bb6a119f218\">\n",
              "  <button class=\"colab-df-quickchart\" onclick=\"quickchart('df-f08f5339-7497-44be-a1e3-2bb6a119f218')\"\n",
              "            title=\"Suggest charts\"\n",
              "            style=\"display:none;\">\n",
              "\n",
              "<svg xmlns=\"http://www.w3.org/2000/svg\" height=\"24px\"viewBox=\"0 0 24 24\"\n",
              "     width=\"24px\">\n",
              "    <g>\n",
              "        <path d=\"M19 3H5c-1.1 0-2 .9-2 2v14c0 1.1.9 2 2 2h14c1.1 0 2-.9 2-2V5c0-1.1-.9-2-2-2zM9 17H7v-7h2v7zm4 0h-2V7h2v10zm4 0h-2v-4h2v4z\"/>\n",
              "    </g>\n",
              "</svg>\n",
              "  </button>\n",
              "\n",
              "<style>\n",
              "  .colab-df-quickchart {\n",
              "      --bg-color: #E8F0FE;\n",
              "      --fill-color: #1967D2;\n",
              "      --hover-bg-color: #E2EBFA;\n",
              "      --hover-fill-color: #174EA6;\n",
              "      --disabled-fill-color: #AAA;\n",
              "      --disabled-bg-color: #DDD;\n",
              "  }\n",
              "\n",
              "  [theme=dark] .colab-df-quickchart {\n",
              "      --bg-color: #3B4455;\n",
              "      --fill-color: #D2E3FC;\n",
              "      --hover-bg-color: #434B5C;\n",
              "      --hover-fill-color: #FFFFFF;\n",
              "      --disabled-bg-color: #3B4455;\n",
              "      --disabled-fill-color: #666;\n",
              "  }\n",
              "\n",
              "  .colab-df-quickchart {\n",
              "    background-color: var(--bg-color);\n",
              "    border: none;\n",
              "    border-radius: 50%;\n",
              "    cursor: pointer;\n",
              "    display: none;\n",
              "    fill: var(--fill-color);\n",
              "    height: 32px;\n",
              "    padding: 0;\n",
              "    width: 32px;\n",
              "  }\n",
              "\n",
              "  .colab-df-quickchart:hover {\n",
              "    background-color: var(--hover-bg-color);\n",
              "    box-shadow: 0 1px 2px rgba(60, 64, 67, 0.3), 0 1px 3px 1px rgba(60, 64, 67, 0.15);\n",
              "    fill: var(--button-hover-fill-color);\n",
              "  }\n",
              "\n",
              "  .colab-df-quickchart-complete:disabled,\n",
              "  .colab-df-quickchart-complete:disabled:hover {\n",
              "    background-color: var(--disabled-bg-color);\n",
              "    fill: var(--disabled-fill-color);\n",
              "    box-shadow: none;\n",
              "  }\n",
              "\n",
              "  .colab-df-spinner {\n",
              "    border: 2px solid var(--fill-color);\n",
              "    border-color: transparent;\n",
              "    border-bottom-color: var(--fill-color);\n",
              "    animation:\n",
              "      spin 1s steps(1) infinite;\n",
              "  }\n",
              "\n",
              "  @keyframes spin {\n",
              "    0% {\n",
              "      border-color: transparent;\n",
              "      border-bottom-color: var(--fill-color);\n",
              "      border-left-color: var(--fill-color);\n",
              "    }\n",
              "    20% {\n",
              "      border-color: transparent;\n",
              "      border-left-color: var(--fill-color);\n",
              "      border-top-color: var(--fill-color);\n",
              "    }\n",
              "    30% {\n",
              "      border-color: transparent;\n",
              "      border-left-color: var(--fill-color);\n",
              "      border-top-color: var(--fill-color);\n",
              "      border-right-color: var(--fill-color);\n",
              "    }\n",
              "    40% {\n",
              "      border-color: transparent;\n",
              "      border-right-color: var(--fill-color);\n",
              "      border-top-color: var(--fill-color);\n",
              "    }\n",
              "    60% {\n",
              "      border-color: transparent;\n",
              "      border-right-color: var(--fill-color);\n",
              "    }\n",
              "    80% {\n",
              "      border-color: transparent;\n",
              "      border-right-color: var(--fill-color);\n",
              "      border-bottom-color: var(--fill-color);\n",
              "    }\n",
              "    90% {\n",
              "      border-color: transparent;\n",
              "      border-bottom-color: var(--fill-color);\n",
              "    }\n",
              "  }\n",
              "</style>\n",
              "\n",
              "  <script>\n",
              "    async function quickchart(key) {\n",
              "      const quickchartButtonEl =\n",
              "        document.querySelector('#' + key + ' button');\n",
              "      quickchartButtonEl.disabled = true;  // To prevent multiple clicks.\n",
              "      quickchartButtonEl.classList.add('colab-df-spinner');\n",
              "      try {\n",
              "        const charts = await google.colab.kernel.invokeFunction(\n",
              "            'suggestCharts', [key], {});\n",
              "      } catch (error) {\n",
              "        console.error('Error during call to suggestCharts:', error);\n",
              "      }\n",
              "      quickchartButtonEl.classList.remove('colab-df-spinner');\n",
              "      quickchartButtonEl.classList.add('colab-df-quickchart-complete');\n",
              "    }\n",
              "    (() => {\n",
              "      let quickchartButtonEl =\n",
              "        document.querySelector('#df-f08f5339-7497-44be-a1e3-2bb6a119f218 button');\n",
              "      quickchartButtonEl.style.display =\n",
              "        google.colab.kernel.accessAllowed ? 'block' : 'none';\n",
              "    })();\n",
              "  </script>\n",
              "</div>\n",
              "\n",
              "  <div id=\"id_045d3975-5d12-4435-a6c8-c7a3ed9e89c6\">\n",
              "    <style>\n",
              "      .colab-df-generate {\n",
              "        background-color: #E8F0FE;\n",
              "        border: none;\n",
              "        border-radius: 50%;\n",
              "        cursor: pointer;\n",
              "        display: none;\n",
              "        fill: #1967D2;\n",
              "        height: 32px;\n",
              "        padding: 0 0 0 0;\n",
              "        width: 32px;\n",
              "      }\n",
              "\n",
              "      .colab-df-generate:hover {\n",
              "        background-color: #E2EBFA;\n",
              "        box-shadow: 0px 1px 2px rgba(60, 64, 67, 0.3), 0px 1px 3px 1px rgba(60, 64, 67, 0.15);\n",
              "        fill: #174EA6;\n",
              "      }\n",
              "\n",
              "      [theme=dark] .colab-df-generate {\n",
              "        background-color: #3B4455;\n",
              "        fill: #D2E3FC;\n",
              "      }\n",
              "\n",
              "      [theme=dark] .colab-df-generate:hover {\n",
              "        background-color: #434B5C;\n",
              "        box-shadow: 0px 1px 3px 1px rgba(0, 0, 0, 0.15);\n",
              "        filter: drop-shadow(0px 1px 2px rgba(0, 0, 0, 0.3));\n",
              "        fill: #FFFFFF;\n",
              "      }\n",
              "    </style>\n",
              "    <button class=\"colab-df-generate\" onclick=\"generateWithVariable('mpg')\"\n",
              "            title=\"Generate code using this dataframe.\"\n",
              "            style=\"display:none;\">\n",
              "\n",
              "  <svg xmlns=\"http://www.w3.org/2000/svg\" height=\"24px\"viewBox=\"0 0 24 24\"\n",
              "       width=\"24px\">\n",
              "    <path d=\"M7,19H8.4L18.45,9,17,7.55,7,17.6ZM5,21V16.75L18.45,3.32a2,2,0,0,1,2.83,0l1.4,1.43a1.91,1.91,0,0,1,.58,1.4,1.91,1.91,0,0,1-.58,1.4L9.25,21ZM18.45,9,17,7.55Zm-12,3A5.31,5.31,0,0,0,4.9,8.1,5.31,5.31,0,0,0,1,6.5,5.31,5.31,0,0,0,4.9,4.9,5.31,5.31,0,0,0,6.5,1,5.31,5.31,0,0,0,8.1,4.9,5.31,5.31,0,0,0,12,6.5,5.46,5.46,0,0,0,6.5,12Z\"/>\n",
              "  </svg>\n",
              "    </button>\n",
              "    <script>\n",
              "      (() => {\n",
              "      const buttonEl =\n",
              "        document.querySelector('#id_045d3975-5d12-4435-a6c8-c7a3ed9e89c6 button.colab-df-generate');\n",
              "      buttonEl.style.display =\n",
              "        google.colab.kernel.accessAllowed ? 'block' : 'none';\n",
              "\n",
              "      buttonEl.onclick = () => {\n",
              "        google.colab.notebook.generateWithVariable('mpg');\n",
              "      }\n",
              "      })();\n",
              "    </script>\n",
              "  </div>\n",
              "\n",
              "    </div>\n",
              "  </div>\n"
            ],
            "application/vnd.google.colaboratory.intrinsic+json": {
              "type": "dataframe",
              "variable_name": "mpg",
              "summary": "{\n  \"name\": \"mpg\",\n  \"rows\": 234,\n  \"fields\": [\n    {\n      \"column\": \"manufacturer\",\n      \"properties\": {\n        \"dtype\": \"category\",\n        \"num_unique_values\": 15,\n        \"samples\": [\n          \"mercury\",\n          \"pontiac\",\n          \"audi\"\n        ],\n        \"semantic_type\": \"\",\n        \"description\": \"\"\n      }\n    },\n    {\n      \"column\": \"model\",\n      \"properties\": {\n        \"dtype\": \"category\",\n        \"num_unique_values\": 38,\n        \"samples\": [\n          \"toyota tacoma 4wd\",\n          \"new beetle\",\n          \"corvette\"\n        ],\n        \"semantic_type\": \"\",\n        \"description\": \"\"\n      }\n    },\n    {\n      \"column\": \"displ\",\n      \"properties\": {\n        \"dtype\": \"number\",\n        \"std\": 1.2919590310839344,\n        \"min\": 1.6,\n        \"max\": 7.0,\n        \"num_unique_values\": 35,\n        \"samples\": [\n          1.6,\n          3.6,\n          5.4\n        ],\n        \"semantic_type\": \"\",\n        \"description\": \"\"\n      }\n    },\n    {\n      \"column\": \"year\",\n      \"properties\": {\n        \"dtype\": \"number\",\n        \"std\": 4,\n        \"min\": 1999,\n        \"max\": 2008,\n        \"num_unique_values\": 2,\n        \"samples\": [\n          2008,\n          1999\n        ],\n        \"semantic_type\": \"\",\n        \"description\": \"\"\n      }\n    },\n    {\n      \"column\": \"cyl\",\n      \"properties\": {\n        \"dtype\": \"number\",\n        \"std\": 1,\n        \"min\": 4,\n        \"max\": 8,\n        \"num_unique_values\": 4,\n        \"samples\": [\n          6,\n          5\n        ],\n        \"semantic_type\": \"\",\n        \"description\": \"\"\n      }\n    },\n    {\n      \"column\": \"trans\",\n      \"properties\": {\n        \"dtype\": \"category\",\n        \"num_unique_values\": 10,\n        \"samples\": [\n          \"auto(s5)\",\n          \"manual(m5)\"\n        ],\n        \"semantic_type\": \"\",\n        \"description\": \"\"\n      }\n    },\n    {\n      \"column\": \"drv\",\n      \"properties\": {\n        \"dtype\": \"category\",\n        \"num_unique_values\": 3,\n        \"samples\": [\n          \"f\",\n          \"4\"\n        ],\n        \"semantic_type\": \"\",\n        \"description\": \"\"\n      }\n    },\n    {\n      \"column\": \"cty\",\n      \"properties\": {\n        \"dtype\": \"number\",\n        \"std\": 4,\n        \"min\": 9,\n        \"max\": 35,\n        \"num_unique_values\": 21,\n        \"samples\": [\n          18,\n          26\n        ],\n        \"semantic_type\": \"\",\n        \"description\": \"\"\n      }\n    },\n    {\n      \"column\": \"hwy\",\n      \"properties\": {\n        \"dtype\": \"number\",\n        \"std\": 5,\n        \"min\": 12,\n        \"max\": 44,\n        \"num_unique_values\": 27,\n        \"samples\": [\n          23,\n          14\n        ],\n        \"semantic_type\": \"\",\n        \"description\": \"\"\n      }\n    },\n    {\n      \"column\": \"fl\",\n      \"properties\": {\n        \"dtype\": \"category\",\n        \"num_unique_values\": 5,\n        \"samples\": [\n          \"r\",\n          \"c\"\n        ],\n        \"semantic_type\": \"\",\n        \"description\": \"\"\n      }\n    },\n    {\n      \"column\": \"class\",\n      \"properties\": {\n        \"dtype\": \"category\",\n        \"num_unique_values\": 7,\n        \"samples\": [\n          \"compact\",\n          \"midsize\"\n        ],\n        \"semantic_type\": \"\",\n        \"description\": \"\"\n      }\n    }\n  ]\n}"
            }
          },
          "metadata": {},
          "execution_count": 4
        }
      ],
      "source": [
        "# pd.read_csv reads a comma-separated value file and returns a dataframe\n",
        "mpg = pd.read_csv(\"mpg.csv\")\n",
        "mpg"
      ]
    },
    {
      "cell_type": "code",
      "execution_count": null,
      "id": "1460e1a9",
      "metadata": {
        "scrolled": true,
        "id": "1460e1a9"
      },
      "outputs": [],
      "source": [
        "# Showing the object.tab autocomplete option\n",
        "# Type the variable that's already been evaluated in memory\n",
        "# This works with imported modules, too\n",
        "# Type .\n",
        "# Then type the <Tab> character\n",
        "mpg.count?"
      ]
    },
    {
      "cell_type": "code",
      "execution_count": null,
      "id": "ed0664bc",
      "metadata": {
        "scrolled": true,
        "id": "ed0664bc"
      },
      "outputs": [],
      "source": [
        "# Pulling up the docstring for a method\n",
        "mpg.head?"
      ]
    },
    {
      "cell_type": "code",
      "execution_count": null,
      "id": "b940d553",
      "metadata": {
        "id": "b940d553"
      },
      "outputs": [],
      "source": [
        "# .tail looks at the last records of a pandas object (series or datafram)\n",
        "mpg.tail(3)"
      ]
    },
    {
      "cell_type": "code",
      "execution_count": null,
      "id": "3d54be78",
      "metadata": {
        "id": "3d54be78"
      },
      "outputs": [],
      "source": [
        "# The square brackets on the dataframe can accept a list of column names\n",
        "columns_of_interest = [\"displ\", \"cty\", \"hwy\"]\n",
        "mpg[columns_of_interest].head()\n",
        "#mpg[[\"displ\", \"cty\", \"hwy\"]]"
      ]
    },
    {
      "cell_type": "code",
      "execution_count": null,
      "id": "edf9b18f",
      "metadata": {
        "id": "edf9b18f"
      },
      "outputs": [],
      "source": [
        "# You'll also see the same result with double square brackets\n",
        "mpg[[\"cty\", \"hwy\"]].head()"
      ]
    },
    {
      "cell_type": "markdown",
      "source": [
        "![image.png](data:image/png;base64,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)"
      ],
      "metadata": {
        "id": "xN5nlnjtY6_F"
      },
      "id": "xN5nlnjtY6_F"
    },
    {
      "cell_type": "code",
      "source": [],
      "metadata": {
        "id": "lFRIOO4cY2eA"
      },
      "id": "lFRIOO4cY2eA",
      "execution_count": null,
      "outputs": []
    },
    {
      "cell_type": "code",
      "execution_count": null,
      "id": "1c82ed92",
      "metadata": {
        "id": "1c82ed92"
      },
      "outputs": [],
      "source": [
        "# Our functions like .mean, .sum, .median, min/max evaluate an entire column, by default\n",
        "# There's a default argument in .mean() that's axis=0 (which means column)\n",
        "mpg[[\"cty\", \"hwy\"]].mean(axis=0)"
      ]
    },
    {
      "cell_type": "code",
      "execution_count": null,
      "id": "d3c9740c",
      "metadata": {
        "id": "d3c9740c"
      },
      "outputs": [],
      "source": [
        "mpg[[\"cty\", \"hwy\"]].head()"
      ]
    },
    {
      "cell_type": "code",
      "execution_count": null,
      "id": "ae623a29",
      "metadata": {
        "id": "ae623a29"
      },
      "outputs": [],
      "source": [
        "# axis=1 means execute the .mean on each row, row-wise execution\n",
        "mpg[[\"cty\", \"hwy\"]].mean(axis=1).head()"
      ]
    },
    {
      "cell_type": "code",
      "execution_count": null,
      "id": "6eb71904",
      "metadata": {
        "id": "6eb71904"
      },
      "outputs": [],
      "source": [
        "# axis=1 calculates the row-wise average\n",
        "mpg[\"average_mileage\"] = mpg[[\"cty\", \"hwy\"]].mean(axis=1)\n",
        "mpg.head()"
      ]
    },
    {
      "cell_type": "code",
      "execution_count": null,
      "id": "fa44eeb8",
      "metadata": {
        "id": "fa44eeb8"
      },
      "outputs": [],
      "source": [
        "# value_counts shows unique values and their distribution\n",
        "mpg.cyl.value_counts()"
      ]
    },
    {
      "cell_type": "code",
      "execution_count": null,
      "id": "d8c9fec1-09c9-4f4d-8fa6-c52034c6597d",
      "metadata": {
        "id": "d8c9fec1-09c9-4f4d-8fa6-c52034c6597d"
      },
      "outputs": [],
      "source": [
        "mpg.shape"
      ]
    },
    {
      "cell_type": "code",
      "execution_count": null,
      "id": "a0befd28",
      "metadata": {
        "id": "a0befd28"
      },
      "outputs": [],
      "source": [
        "# Using Boolean Series to answer questions\n",
        "# How many audis in the dataset\n",
        "# True works as a 1, False works as 0\n",
        "(mpg.manufacturer == \"audi\").sum()"
      ]
    },
    {
      "cell_type": "code",
      "execution_count": null,
      "id": "a1c26a98",
      "metadata": {
        "id": "a1c26a98"
      },
      "outputs": [],
      "source": [
        "# What proportion of engines are 4 cylinders?\n",
        "(mpg.cyl == 4).mean()"
      ]
    },
    {
      "cell_type": "code",
      "execution_count": null,
      "id": "915420ec",
      "metadata": {
        "id": "915420ec"
      },
      "outputs": [],
      "source": [
        "# Using Boolean Series to filter a dataframe\n",
        "mpg[mpg.cyl == 5]"
      ]
    },
    {
      "cell_type": "code",
      "execution_count": null,
      "id": "2821bada",
      "metadata": {
        "id": "2821bada"
      },
      "outputs": [],
      "source": [
        "# You can mix and match the columns used to generate Booleans, the Boolean values don't care\n",
        "mpg[(mpg.model == \"maxima\") | (mpg.cyl == 5)]"
      ]
    },
    {
      "cell_type": "code",
      "execution_count": null,
      "id": "8e44b998",
      "metadata": {
        "id": "8e44b998"
      },
      "outputs": [],
      "source": [
        "# AND limits options. Both predicates must be true\n",
        "mpg[(mpg[\"class\"] == \"midsize\") & (mpg[\"displ\"] < 2)]"
      ]
    },
    {
      "cell_type": "code",
      "execution_count": null,
      "id": "46915e72",
      "metadata": {
        "id": "46915e72"
      },
      "outputs": [],
      "source": [
        "original_df = pd.DataFrame({\"x\": [1, 2, 3]})\n",
        "original_df"
      ]
    },
    {
      "cell_type": "code",
      "execution_count": null,
      "id": "50908de0",
      "metadata": {
        "id": "50908de0"
      },
      "outputs": [],
      "source": [
        "# Be careful assigning Python collections like this...\n",
        "# This works the same way with lists, dictionaries, and many other collection objects\n",
        "new_df = original_df\n",
        "new_df"
      ]
    },
    {
      "cell_type": "code",
      "execution_count": null,
      "id": "4ec9a44b",
      "metadata": {
        "id": "4ec9a44b"
      },
      "outputs": [],
      "source": [
        "original_df[\"y\"] = original_df.x * 100\n",
        "original_df"
      ]
    },
    {
      "cell_type": "code",
      "execution_count": null,
      "id": "6a726382",
      "metadata": {
        "id": "6a726382"
      },
      "outputs": [],
      "source": [
        "new_df"
      ]
    },
    {
      "cell_type": "code",
      "execution_count": null,
      "id": "cd385569",
      "metadata": {
        "id": "cd385569"
      },
      "outputs": [],
      "source": [
        "# Use .copy to make a proper copy of a dataframe\n",
        "new_df = original_df.copy()\n",
        "new_df"
      ]
    },
    {
      "cell_type": "code",
      "execution_count": null,
      "id": "9e790875",
      "metadata": {
        "id": "9e790875"
      },
      "outputs": [],
      "source": [
        "original_df[\"z\"] = 5000\n",
        "original_df"
      ]
    },
    {
      "cell_type": "code",
      "execution_count": null,
      "id": "b4ebde44",
      "metadata": {
        "id": "b4ebde44"
      },
      "outputs": [],
      "source": [
        "# The new df was created from a copy and avoids future mutation to the original dataframe\n",
        "new_df"
      ]
    },
    {
      "cell_type": "code",
      "execution_count": null,
      "id": "f5d57b4a",
      "metadata": {
        "id": "f5d57b4a"
      },
      "outputs": [],
      "source": [
        "# Sorting by a single column\n",
        "mpg.sort_values(by=[\"average_mileage\"], ascending=False, ignore_index=True).head()\n",
        "#top 5 highest average milage vehicles"
      ]
    },
    {
      "cell_type": "code",
      "execution_count": null,
      "id": "9059739d",
      "metadata": {
        "id": "9059739d"
      },
      "outputs": [],
      "source": [
        "# Sorting by multiple columns\n",
        "mpg.sort_values(by=[\"hwy\", \"cty\"], ascending=False, ignore_index=True).head()"
      ]
    },
    {
      "cell_type": "code",
      "execution_count": null,
      "id": "51290503",
      "metadata": {
        "id": "51290503"
      },
      "outputs": [],
      "source": [
        "# Updating the dataframe to store the sorted values\n",
        "# Use inplace=True or reassign the dataframe variable (not both)\n",
        "mpg.sort_values(by=\"displ\", ascending=False, ignore_index=True, inplace=True)\n",
        "mpg.head()"
      ]
    },
    {
      "cell_type": "markdown",
      "id": "535d70ea",
      "metadata": {
        "id": "535d70ea"
      },
      "source": [
        "## Additional Resources\n",
        "- [Pandas Cheat Sheet](https://pandas.pydata.org/Pandas_Cheat_Sheet.pdf)\n",
        "- [Pandas Comparison to Spreadsheets](https://pandas.pydata.org/docs/dev/getting_started/comparison/comparison_with_spreadsheets.html)\n",
        "- [Pandas Comparison to SQL](https://pandas.pydata.org/docs/dev/getting_started/comparison/comparison_with_sql.html)"
      ]
    },
    {
      "cell_type": "markdown",
      "id": "a8cb227e",
      "metadata": {
        "id": "a8cb227e"
      },
      "source": [
        "## Exercises\n",
        "- Create a new column named `is_automatic` that holds a Boolean if that given vehicle is an automatic transmition or not.\n",
        "- Use the `is_automatic` column to sum up the number of automatic vehicles in this dataset.\n",
        "- Write the pandas code to determine what percentage of the vehicles are subcompacts?\n",
        "- Combined fuel economy is a weighted average of the city value by 55% and the highway value by 45%. Use arithmetic operators to add a new column named `fuel_economy` to the `mpg` dataframe.\n",
        "- Use Boolean masking to find all of the vehicles with a `fuel_economy` above the median `fuel_economy`.\n",
        "\n"
      ]
    },
    {
      "cell_type": "code",
      "execution_count": null,
      "id": "e7f35a2c",
      "metadata": {
        "id": "e7f35a2c"
      },
      "outputs": [],
      "source": [
        "# Create a new column named `is_automatic` that holds a Boolean if that given vehicle is an automatic transmition or not.\n"
      ]
    },
    {
      "cell_type": "code",
      "execution_count": null,
      "id": "0f9fb2e7",
      "metadata": {
        "id": "0f9fb2e7"
      },
      "outputs": [],
      "source": [
        "# Use the `is_automatic` column to sum up the number of automatic vehicles in this dataset.\n"
      ]
    },
    {
      "cell_type": "code",
      "execution_count": null,
      "id": "f3234786",
      "metadata": {
        "id": "f3234786"
      },
      "outputs": [],
      "source": [
        "# Write the pandas code to determine what percentage of the vehicles are subcompacts?\n"
      ]
    },
    {
      "cell_type": "code",
      "execution_count": null,
      "id": "b59a6d9a",
      "metadata": {
        "id": "b59a6d9a"
      },
      "outputs": [],
      "source": [
        "# Create a `fuel_economy` column. Fuel economy is a weighted average of the city value by 55% and the highway value by 45%\n"
      ]
    },
    {
      "cell_type": "code",
      "execution_count": null,
      "id": "84f45b10",
      "metadata": {
        "id": "84f45b10"
      },
      "outputs": [],
      "source": [
        "# Use Boolean masking to find all of the vehicles with a `fuel_economy` above the median `fuel_economy`.\n"
      ]
    },
    {
      "cell_type": "code",
      "execution_count": null,
      "id": "33d53bc1-20cd-47cf-9bba-8c760b4fb04a",
      "metadata": {
        "id": "33d53bc1-20cd-47cf-9bba-8c760b4fb04a"
      },
      "outputs": [],
      "source": []
    },
    {
      "cell_type": "code",
      "execution_count": null,
      "id": "2d51dd00-7331-4f0f-af75-1a758387ab40",
      "metadata": {
        "id": "2d51dd00-7331-4f0f-af75-1a758387ab40"
      },
      "outputs": [],
      "source": []
    },
    {
      "cell_type": "code",
      "execution_count": null,
      "id": "637b58f3-26e2-434d-98b8-6f6851cfc640",
      "metadata": {
        "id": "637b58f3-26e2-434d-98b8-6f6851cfc640"
      },
      "outputs": [],
      "source": []
    }
  ],
  "metadata": {
    "kernelspec": {
      "display_name": "Python 3 (ipykernel)",
      "language": "python",
      "name": "python3"
    },
    "language_info": {
      "codemirror_mode": {
        "name": "ipython",
        "version": 3
      },
      "file_extension": ".py",
      "mimetype": "text/x-python",
      "name": "python",
      "nbconvert_exporter": "python",
      "pygments_lexer": "ipython3",
      "version": "3.12.4"
    },
    "colab": {
      "provenance": []
    }
  },
  "nbformat": 4,
  "nbformat_minor": 5
}